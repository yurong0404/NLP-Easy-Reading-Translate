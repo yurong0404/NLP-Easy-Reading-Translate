{
 "cells": [
  {
   "cell_type": "code",
   "execution_count": 0,
   "metadata": {
    "colab": {},
    "colab_type": "code",
    "id": "covwZ_V3_K77"
   },
   "outputs": [],
   "source": [
    "#! pip install numpy\n",
    "#! pip install nltk\n",
    "#! pip install BeautifulSoup4\n",
    "#! pip install requests\n",
    "#!/usr/bin/python"
   ]
  },
  {
   "cell_type": "code",
   "execution_count": 0,
   "metadata": {
    "colab": {},
    "colab_type": "code",
    "id": "eRPpXiDl_RkL"
   },
   "outputs": [],
   "source": [
    "from bs4 import BeautifulSoup\n",
    "from collections import defaultdict\n",
    "import requests"
   ]
  },
  {
   "cell_type": "code",
   "execution_count": 0,
   "metadata": {
    "colab": {},
    "colab_type": "code",
    "id": "JKhR2oT-_Wzp"
   },
   "outputs": [],
   "source": [
    "def extract(soup):\n",
    "    for term in soup.select('.pt-list-terms'):\n",
    "        count = 0\n",
    "        for item in term.select('.pt-list-terms__item'):\n",
    "            for title in item.select('.pt-thesaurus-card__term-title'):\n",
    "                if title.select_one('.link--term'):\n",
    "                  if count == 10:\n",
    "                    break\n",
    "                  else:\n",
    "                    count += 1\n",
    "                    print(title.select_one('.link--term').text)"
   ]
  },
  {
   "cell_type": "code",
   "execution_count": 0,
   "metadata": {
    "colab": {},
    "colab_type": "code",
    "id": "yXfIdTCa_Zv7"
   },
   "outputs": [],
   "source": [
    "def crawl(url):\n",
    "    headers = { 'User-Agent': 'Mozilla/5.0 (Windows NT 6.0; WOW64; rv:24.0) Gecko/20100101 Firefox/24.0' }\n",
    "    source_code = requests.get(url , headers=headers).content\n",
    "    soup = BeautifulSoup(source_code, 'html.parser')\n",
    "    extract(soup)"
   ]
  },
  {
   "cell_type": "code",
   "execution_count": 0,
   "metadata": {
    "colab": {
     "base_uri": "https://localhost:8080/",
     "height": 187
    },
    "colab_type": "code",
    "id": "hIQCQ1XA_fkr",
    "outputId": "d1ee53ff-537c-492b-a9ee-cba77bc4a7ff"
   },
   "outputs": [
    {
     "name": "stdout",
     "output_type": "stream",
     "text": [
      "king\n",
      "sovereign\n",
      "crowned head\n",
      "ruler\n",
      "queen\n",
      "empress\n",
      "lord\n",
      "potentate\n",
      "prince\n",
      "dynast\n"
     ]
    }
   ],
   "source": [
    "word = 'monarch'\n",
    "r = 'https://www.powerthesaurus.org/'+ word +'/synonyms'\n",
    "crawl(r)"
   ]
  }
 ],
 "metadata": {
  "colab": {
   "name": "Untitled2.ipynb",
   "provenance": [],
   "version": "0.3.2"
  },
  "kernelspec": {
   "display_name": "Python 3",
   "language": "python",
   "name": "python3"
  },
  "language_info": {
   "codemirror_mode": {
    "name": "ipython",
    "version": 3
   },
   "file_extension": ".py",
   "mimetype": "text/x-python",
   "name": "python",
   "nbconvert_exporter": "python",
   "pygments_lexer": "ipython3",
   "version": "3.6.4"
  }
 },
 "nbformat": 4,
 "nbformat_minor": 1
}
